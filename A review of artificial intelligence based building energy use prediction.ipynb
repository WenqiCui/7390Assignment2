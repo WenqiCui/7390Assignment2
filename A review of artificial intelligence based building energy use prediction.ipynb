{
 "cells": [
  {
   "cell_type": "markdown",
   "metadata": {},
   "source": [
    "# A review of artificial intelligence based building energy use prediction: Contrasting the capabilities of single and ensemble prediction models summary\n"
   ]
  },
  {
   "cell_type": "markdown",
   "metadata": {},
   "source": [
    "Introduction:\n",
    "Globally, buildings account for nearly 30% of global energy usage. As such, any effort toward decreasing building energy use considerably reduces the reliance on global energy. With a significantly large stock of buildings still put to use by, in some cases, over-extending their useful life by retro tting through material upgrades, the importance of building energy efficiency cannot be understated. Thus, with existing buildings posing a threat to overall energy efficiency, recent decades have seen an increase in research activities in the field of energy use prediction particularly using Artificial Intelligence (AI) techniques. this paper focusses on exploring those techniques"
   ]
  },
  {
   "cell_type": "markdown",
   "metadata": {},
   "source": [
    "AI-based prediction method predicts building energy use according to its correlated variables such as environmental conditions, building characteristics, and occupancy status. Due to its prediction performance, AI-based methods have been widely applied in the domain of building energy use prediction. Previous studies have compared the AI-based methods with other prediction methods for building energy use."
   ]
  },
  {
   "cell_type": "markdown",
   "metadata": {},
   "source": [
    "Most studies demonstrated the AI-based approaches, with advantages such as model simplicity, calculation speed, and learning capability when compared with the engineering and hybrid methods, is the most suitable method in energy use prediction of existing building stock. Because of their simple model structure and convenient data collection necessities, AI model development is rapid."
   ]
  },
  {
   "cell_type": "markdown",
   "metadata": {},
   "source": [
    "# AI-based prediction models\n",
    "AI-based prediction method consists of four main steps: data collection, data preprocessing, model training, and model testing. The first step is to acquire historical input and output data. The prediction accuracy of AI-based prediction model highly depends on the selection of input data. In general, most influential and highly correlated input data may bring better prediction results . In case of building energy use prediction, these aspects include but are not limited to, exterior weather conditions, occupants, global heat loss coefficient, and day types. The output data are those parameters that represent building energy use.\n"
   ]
  },
  {
   "cell_type": "markdown",
   "metadata": {},
   "source": [
    "# Using the ensemble prediction method\n"
   ]
  },
  {
   "cell_type": "markdown",
   "metadata": {},
   "source": [
    "In machine learning, ensemble model is de ned as an ﬁ approach using multiple learning algorithms/models to obtain better predictive performance than that could be obtained from any of the constituent learning algorithms/models.\n",
    "An ensemble model works as a framework which aims to provide the best possible prediction performance by automatically managing the strengths and weaknesses of each base model"
   ]
  },
  {
   "cell_type": "markdown",
   "metadata": {},
   "source": [
    "Step 1: \n",
    "Input feature identification. The first step is the identification of required input features. In general, these features may include factors that a building energy use such as environmental factors, building characteristics, and occupancy.\n",
    "Step 2: Data monitoring and preprocessing. In this step, both the identified input and output parameters should be monitored by adequate sensors. Examples of these sensors are the ambient sensors for environmental conditions, electricity, ow, and gas meters, chemical sensors for indoor conditions, and passive infrared sensors for occupancy.  Data preprocessing may be required owing to missing data points, inaccurate data representation, and non-unified time interval issues. Taking appropriate measures to solve these problems in this step may reduce their impact in subsequent steps. \n",
    "Step 3: Learning algorithm selection. This step is the major difference between single and ensemble prediction models. Comparing with single prediction model which only use one learning algorithms to build the model, ensemble prediction model requires multiple learning algorithms to train its base models. homoﬀ geneous ensemble model only needs to select one algorithm from the currently available machine learning techniques, which is similar to the algorithm selection process of the single prediction model. On the contrary, the heterogeneous ensemble model requires a collection of machine learning algorithms to work as its base models. \n",
    "Step 4: Base model generation. Once the learning algorithms are selected, the next step is to train these base models. The training processes of homogeneous and heterogeneous ensemble models are different in the generation of the training subset. For homogeneous ensemble model, each base model shares the same learning algorithm while their training data are different. The training data for each base model is the subsets of the whole training data which are generated by data manipulation methods such as bagging and boosting. The training process for heterogeneous ensemble model is straightforward, that is, it uses the same training data to train each learning algorithm individually. \n",
    "Step 5: Model integration . This step is to integrate all base models to output the final prediction results through certain combination schemes. For regression problems, minimizing the overall prediction error of the ensemble prediction model normally works as the objective function of the combination schemes. The weight of each base model is assigned based on its prediction accuracy, which means that the one with the least prediction errors may have the highest weight.\n"
   ]
  },
  {
   "cell_type": "code",
   "execution_count": null,
   "metadata": {},
   "outputs": [],
   "source": []
  }
 ],
 "metadata": {
  "kernelspec": {
   "display_name": "Python 3",
   "language": "python",
   "name": "python3"
  },
  "language_info": {
   "codemirror_mode": {
    "name": "ipython",
    "version": 3
   },
   "file_extension": ".py",
   "mimetype": "text/x-python",
   "name": "python",
   "nbconvert_exporter": "python",
   "pygments_lexer": "ipython3",
   "version": "3.6.5"
  }
 },
 "nbformat": 4,
 "nbformat_minor": 2
}
