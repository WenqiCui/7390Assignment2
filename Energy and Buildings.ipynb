{
 "cells": [
  {
   "cell_type": "markdown",
   "metadata": {},
   "source": [
    "# Energy and Buildings"
   ]
  },
  {
   "cell_type": "raw",
   "metadata": {},
   "source": [
    "Important variables from other studies: One of the findings was that the daily variation in the temporal distribution of each house was significant. The researchers concluded that the most important variables were weather, location, and floor area. Also the number of refrigerators and entertainment appliances (e.g. videocassette recorders, VCRs) are among the most important determinants of daily minimum consumption.  Another study found that being at home during the day correlated with lower appliance efficiency. The provided explanation by the researchers is the lower efficiency was likely due to the increased use of appliances when the house is occupied more often.\n",
    "One of the main conclusions was that the last 24 h are the most relevant for prediction.\n",
    "\n",
    "Houses situation: location, age, situation of mechanical systems, low energy house, building air leakage, occupants of the house, \n",
    "Features correlation: there is a positive correlation between the energy consumption of appliances and lights. The second largest correlation is between appliances and T2(temperature in living room). For the indoor temperatures, the correlations are high as expected; highest correlation with the appliances is between the outdoor temperature.  A positive correlation of 0.10 is seen between appliances’ consumption and outdoor temperature. Also there is a positive correlation with appliances’ consumption and wind speed (0.09), higher wind speeds correlate with higher energy consumption by the appliances.  Another important and interesting correlation is between the pressure and the wind speed. there is a strong time component in the energy consumption pattern;  There is no clear pattern regarding the day of the week. \n",
    "Features selection: The Classification and Regression Training package (CARET) has a RFE algorithm and is used in this study; boruta algorithm; random forest model. For the RF and GBM models, the variable importance is measured by the residual sum of squares. For the SVM-Radial model, the relationship between each predictor and the outcome is evaluated and then a linear model is fit and the absolute value of the t value for the slope of the predictor is used.  The best models are the RF and GBM according to the RMSE and R2.  This means that information from the kitchen, living room, laundry room, bathroom, outdoors, office, and bedrooms are the most important. \n",
    "\n",
    "Conclusion: the time information (NSM) was ranked as the most important to predict the appliances’ consumption. The data analysis showed that data from the kitchen, laundry room, living room and bathrooms had the most important contributions.( laundry, kitchen and living rooms would be expected to have the highest contributions)\n"
   ]
  },
  {
   "cell_type": "code",
   "execution_count": 3,
   "metadata": {},
   "outputs": [],
   "source": [
    "import numpy as np\n",
    "import pandas as pd\n",
    "import matplotlib.pyplot as plt\n",
    "from sklearn.ensemble import RandomForestClassifier\n",
    "from boruta import BorutaPy\n",
    "from sklearn.feature_selection import RFE\n",
    "from sklearn.svm import SVR\n",
    "from sklearn.model_selection import train_test_split\n",
    "from sklearn.neighbors import KNeighborsClassifier\n",
    "from sklearn.metrics import accuracy_score\n",
    "from sklearn.model_selection import cross_val_score\n",
    "from sklearn.preprocessing import PolynomialFeatures\n",
    "from sklearn.linear_model import LinearRegression\n",
    "from sklearn.pipeline import make_pipeline"
   ]
  },
  {
   "cell_type": "code",
   "execution_count": 4,
   "metadata": {},
   "outputs": [],
   "source": [
    "%matplotlib inline"
   ]
  },
  {
   "cell_type": "code",
   "execution_count": 23,
   "metadata": {},
   "outputs": [],
   "source": [
    "energydata_c = pd.read_csv(\"energydata_complete.csv\",parse_dates=[\"date\"])"
   ]
  },
  {
   "cell_type": "code",
   "execution_count": 6,
   "metadata": {},
   "outputs": [
    {
     "name": "stdout",
     "output_type": "stream",
     "text": [
      "(19735, 29)\n"
     ]
    },
    {
     "data": {
      "text/html": [
       "<div>\n",
       "<style scoped>\n",
       "    .dataframe tbody tr th:only-of-type {\n",
       "        vertical-align: middle;\n",
       "    }\n",
       "\n",
       "    .dataframe tbody tr th {\n",
       "        vertical-align: top;\n",
       "    }\n",
       "\n",
       "    .dataframe thead th {\n",
       "        text-align: right;\n",
       "    }\n",
       "</style>\n",
       "<table border=\"1\" class=\"dataframe\">\n",
       "  <thead>\n",
       "    <tr style=\"text-align: right;\">\n",
       "      <th></th>\n",
       "      <th>date</th>\n",
       "      <th>Appliances</th>\n",
       "      <th>lights</th>\n",
       "      <th>T1</th>\n",
       "      <th>RH_1</th>\n",
       "      <th>T2</th>\n",
       "      <th>RH_2</th>\n",
       "      <th>T3</th>\n",
       "      <th>RH_3</th>\n",
       "      <th>T4</th>\n",
       "      <th>...</th>\n",
       "      <th>T9</th>\n",
       "      <th>RH_9</th>\n",
       "      <th>T_out</th>\n",
       "      <th>Press_mm_hg</th>\n",
       "      <th>RH_out</th>\n",
       "      <th>Windspeed</th>\n",
       "      <th>Visibility</th>\n",
       "      <th>Tdewpoint</th>\n",
       "      <th>rv1</th>\n",
       "      <th>rv2</th>\n",
       "    </tr>\n",
       "  </thead>\n",
       "  <tbody>\n",
       "    <tr>\n",
       "      <th>0</th>\n",
       "      <td>2016-01-11 17:00:00</td>\n",
       "      <td>60</td>\n",
       "      <td>30</td>\n",
       "      <td>19.89</td>\n",
       "      <td>47.596667</td>\n",
       "      <td>19.2</td>\n",
       "      <td>44.790000</td>\n",
       "      <td>19.79</td>\n",
       "      <td>44.730000</td>\n",
       "      <td>19.000000</td>\n",
       "      <td>...</td>\n",
       "      <td>17.033333</td>\n",
       "      <td>45.53</td>\n",
       "      <td>6.600000</td>\n",
       "      <td>733.5</td>\n",
       "      <td>92.0</td>\n",
       "      <td>7.000000</td>\n",
       "      <td>63.000000</td>\n",
       "      <td>5.3</td>\n",
       "      <td>13.275433</td>\n",
       "      <td>13.275433</td>\n",
       "    </tr>\n",
       "    <tr>\n",
       "      <th>1</th>\n",
       "      <td>2016-01-11 17:10:00</td>\n",
       "      <td>60</td>\n",
       "      <td>30</td>\n",
       "      <td>19.89</td>\n",
       "      <td>46.693333</td>\n",
       "      <td>19.2</td>\n",
       "      <td>44.722500</td>\n",
       "      <td>19.79</td>\n",
       "      <td>44.790000</td>\n",
       "      <td>19.000000</td>\n",
       "      <td>...</td>\n",
       "      <td>17.066667</td>\n",
       "      <td>45.56</td>\n",
       "      <td>6.483333</td>\n",
       "      <td>733.6</td>\n",
       "      <td>92.0</td>\n",
       "      <td>6.666667</td>\n",
       "      <td>59.166667</td>\n",
       "      <td>5.2</td>\n",
       "      <td>18.606195</td>\n",
       "      <td>18.606195</td>\n",
       "    </tr>\n",
       "    <tr>\n",
       "      <th>2</th>\n",
       "      <td>2016-01-11 17:20:00</td>\n",
       "      <td>50</td>\n",
       "      <td>30</td>\n",
       "      <td>19.89</td>\n",
       "      <td>46.300000</td>\n",
       "      <td>19.2</td>\n",
       "      <td>44.626667</td>\n",
       "      <td>19.79</td>\n",
       "      <td>44.933333</td>\n",
       "      <td>18.926667</td>\n",
       "      <td>...</td>\n",
       "      <td>17.000000</td>\n",
       "      <td>45.50</td>\n",
       "      <td>6.366667</td>\n",
       "      <td>733.7</td>\n",
       "      <td>92.0</td>\n",
       "      <td>6.333333</td>\n",
       "      <td>55.333333</td>\n",
       "      <td>5.1</td>\n",
       "      <td>28.642668</td>\n",
       "      <td>28.642668</td>\n",
       "    </tr>\n",
       "    <tr>\n",
       "      <th>3</th>\n",
       "      <td>2016-01-11 17:30:00</td>\n",
       "      <td>50</td>\n",
       "      <td>40</td>\n",
       "      <td>19.89</td>\n",
       "      <td>46.066667</td>\n",
       "      <td>19.2</td>\n",
       "      <td>44.590000</td>\n",
       "      <td>19.79</td>\n",
       "      <td>45.000000</td>\n",
       "      <td>18.890000</td>\n",
       "      <td>...</td>\n",
       "      <td>17.000000</td>\n",
       "      <td>45.40</td>\n",
       "      <td>6.250000</td>\n",
       "      <td>733.8</td>\n",
       "      <td>92.0</td>\n",
       "      <td>6.000000</td>\n",
       "      <td>51.500000</td>\n",
       "      <td>5.0</td>\n",
       "      <td>45.410389</td>\n",
       "      <td>45.410389</td>\n",
       "    </tr>\n",
       "    <tr>\n",
       "      <th>4</th>\n",
       "      <td>2016-01-11 17:40:00</td>\n",
       "      <td>60</td>\n",
       "      <td>40</td>\n",
       "      <td>19.89</td>\n",
       "      <td>46.333333</td>\n",
       "      <td>19.2</td>\n",
       "      <td>44.530000</td>\n",
       "      <td>19.79</td>\n",
       "      <td>45.000000</td>\n",
       "      <td>18.890000</td>\n",
       "      <td>...</td>\n",
       "      <td>17.000000</td>\n",
       "      <td>45.40</td>\n",
       "      <td>6.133333</td>\n",
       "      <td>733.9</td>\n",
       "      <td>92.0</td>\n",
       "      <td>5.666667</td>\n",
       "      <td>47.666667</td>\n",
       "      <td>4.9</td>\n",
       "      <td>10.084097</td>\n",
       "      <td>10.084097</td>\n",
       "    </tr>\n",
       "  </tbody>\n",
       "</table>\n",
       "<p>5 rows × 29 columns</p>\n",
       "</div>"
      ],
      "text/plain": [
       "                 date  Appliances  lights     T1       RH_1    T2       RH_2  \\\n",
       "0 2016-01-11 17:00:00          60      30  19.89  47.596667  19.2  44.790000   \n",
       "1 2016-01-11 17:10:00          60      30  19.89  46.693333  19.2  44.722500   \n",
       "2 2016-01-11 17:20:00          50      30  19.89  46.300000  19.2  44.626667   \n",
       "3 2016-01-11 17:30:00          50      40  19.89  46.066667  19.2  44.590000   \n",
       "4 2016-01-11 17:40:00          60      40  19.89  46.333333  19.2  44.530000   \n",
       "\n",
       "      T3       RH_3         T4    ...             T9   RH_9     T_out  \\\n",
       "0  19.79  44.730000  19.000000    ...      17.033333  45.53  6.600000   \n",
       "1  19.79  44.790000  19.000000    ...      17.066667  45.56  6.483333   \n",
       "2  19.79  44.933333  18.926667    ...      17.000000  45.50  6.366667   \n",
       "3  19.79  45.000000  18.890000    ...      17.000000  45.40  6.250000   \n",
       "4  19.79  45.000000  18.890000    ...      17.000000  45.40  6.133333   \n",
       "\n",
       "   Press_mm_hg  RH_out  Windspeed  Visibility  Tdewpoint        rv1        rv2  \n",
       "0        733.5    92.0   7.000000   63.000000        5.3  13.275433  13.275433  \n",
       "1        733.6    92.0   6.666667   59.166667        5.2  18.606195  18.606195  \n",
       "2        733.7    92.0   6.333333   55.333333        5.1  28.642668  28.642668  \n",
       "3        733.8    92.0   6.000000   51.500000        5.0  45.410389  45.410389  \n",
       "4        733.9    92.0   5.666667   47.666667        4.9  10.084097  10.084097  \n",
       "\n",
       "[5 rows x 29 columns]"
      ]
     },
     "execution_count": 6,
     "metadata": {},
     "output_type": "execute_result"
    }
   ],
   "source": [
    "print(energydata_c.shape)\n",
    "energydata_c.head()"
   ]
  },
  {
   "cell_type": "code",
   "execution_count": 7,
   "metadata": {},
   "outputs": [
    {
     "name": "stdout",
     "output_type": "stream",
     "text": [
      "<class 'pandas.core.frame.DataFrame'>\n",
      "RangeIndex: 19735 entries, 0 to 19734\n",
      "Data columns (total 29 columns):\n",
      "date           19735 non-null datetime64[ns]\n",
      "Appliances     19735 non-null int64\n",
      "lights         19735 non-null int64\n",
      "T1             19735 non-null float64\n",
      "RH_1           19735 non-null float64\n",
      "T2             19735 non-null float64\n",
      "RH_2           19735 non-null float64\n",
      "T3             19735 non-null float64\n",
      "RH_3           19735 non-null float64\n",
      "T4             19735 non-null float64\n",
      "RH_4           19735 non-null float64\n",
      "T5             19735 non-null float64\n",
      "RH_5           19735 non-null float64\n",
      "T6             19735 non-null float64\n",
      "RH_6           19735 non-null float64\n",
      "T7             19735 non-null float64\n",
      "RH_7           19735 non-null float64\n",
      "T8             19735 non-null float64\n",
      "RH_8           19735 non-null float64\n",
      "T9             19735 non-null float64\n",
      "RH_9           19735 non-null float64\n",
      "T_out          19735 non-null float64\n",
      "Press_mm_hg    19735 non-null float64\n",
      "RH_out         19735 non-null float64\n",
      "Windspeed      19735 non-null float64\n",
      "Visibility     19735 non-null float64\n",
      "Tdewpoint      19735 non-null float64\n",
      "rv1            19735 non-null float64\n",
      "rv2            19735 non-null float64\n",
      "dtypes: datetime64[ns](1), float64(26), int64(2)\n",
      "memory usage: 4.4 MB\n"
     ]
    }
   ],
   "source": [
    "energydata_c.info()"
   ]
  },
  {
   "cell_type": "code",
   "execution_count": 24,
   "metadata": {},
   "outputs": [],
   "source": [
    "energydata_c['month'] = energydata_c['date'].dt.month\n",
    "energydata_c['day-of-year'] = energydata_c['date'].dt.dayofyear\n",
    "energydata_c['day'] = energydata_c['date'].dt.day\n",
    "energydata_c['hour'] = energydata_c['date'].dt.hour"
   ]
  },
  {
   "cell_type": "code",
   "execution_count": 25,
   "metadata": {},
   "outputs": [],
   "source": [
    "energydata_c.drop(['date'], 1,inplace=True)\n"
   ]
  },
  {
   "cell_type": "code",
   "execution_count": 26,
   "metadata": {},
   "outputs": [
    {
     "name": "stdout",
     "output_type": "stream",
     "text": [
      "<class 'pandas.core.frame.DataFrame'>\n",
      "RangeIndex: 19735 entries, 0 to 19734\n",
      "Data columns (total 32 columns):\n",
      "Appliances     19735 non-null int64\n",
      "lights         19735 non-null int64\n",
      "T1             19735 non-null float64\n",
      "RH_1           19735 non-null float64\n",
      "T2             19735 non-null float64\n",
      "RH_2           19735 non-null float64\n",
      "T3             19735 non-null float64\n",
      "RH_3           19735 non-null float64\n",
      "T4             19735 non-null float64\n",
      "RH_4           19735 non-null float64\n",
      "T5             19735 non-null float64\n",
      "RH_5           19735 non-null float64\n",
      "T6             19735 non-null float64\n",
      "RH_6           19735 non-null float64\n",
      "T7             19735 non-null float64\n",
      "RH_7           19735 non-null float64\n",
      "T8             19735 non-null float64\n",
      "RH_8           19735 non-null float64\n",
      "T9             19735 non-null float64\n",
      "RH_9           19735 non-null float64\n",
      "T_out          19735 non-null float64\n",
      "Press_mm_hg    19735 non-null float64\n",
      "RH_out         19735 non-null float64\n",
      "Windspeed      19735 non-null float64\n",
      "Visibility     19735 non-null float64\n",
      "Tdewpoint      19735 non-null float64\n",
      "rv1            19735 non-null float64\n",
      "rv2            19735 non-null float64\n",
      "month          19735 non-null int64\n",
      "day-of-year    19735 non-null int64\n",
      "day            19735 non-null int64\n",
      "hour           19735 non-null int64\n",
      "dtypes: float64(26), int64(6)\n",
      "memory usage: 4.8 MB\n"
     ]
    }
   ],
   "source": [
    "energydata = energydata_c\n",
    "energydata.info()"
   ]
  },
  {
   "cell_type": "code",
   "execution_count": 9,
   "metadata": {},
   "outputs": [],
   "source": [
    "X = energydata.iloc[:, 1:32].values\n",
    "y = energydata.iloc[:, 0].values"
   ]
  },
  {
   "cell_type": "code",
   "execution_count": 11,
   "metadata": {},
   "outputs": [
    {
     "data": {
      "text/plain": [
       "Index(['lights', 'T1', 'RH_1', 'T2', 'RH_2', 'T3', 'RH_3', 'T4', 'RH_4', 'T5',\n",
       "       'RH_5', 'T6', 'RH_6', 'T7', 'RH_7', 'T8', 'RH_8', 'T9', 'RH_9', 'T_out',\n",
       "       'Press_mm_hg', 'RH_out', 'Windspeed', 'Visibility', 'Tdewpoint', 'rv1',\n",
       "       'rv2', 'month', 'day-of-year', 'day', 'hour'],\n",
       "      dtype='object')"
      ]
     },
     "execution_count": 11,
     "metadata": {},
     "output_type": "execute_result"
    }
   ],
   "source": [
    "energydata.iloc[:, 1:32].columns"
   ]
  },
  {
   "cell_type": "code",
   "execution_count": 12,
   "metadata": {},
   "outputs": [],
   "source": [
    "rf = RandomForestClassifier(n_jobs=-1, class_weight='auto', max_depth=7)\n",
    "# define Boruta feature selection method\n",
    "feat_selector = BorutaPy(rf, n_estimators='auto', verbose=2)"
   ]
  },
  {
   "cell_type": "code",
   "execution_count": 13,
   "metadata": {},
   "outputs": [
    {
     "name": "stdout",
     "output_type": "stream",
     "text": [
      "[[ 30.          19.89        47.59666667 ...  11.          11.\n",
      "   17.        ]\n",
      " [ 30.          19.89        46.69333333 ...  11.          11.\n",
      "   17.        ]\n",
      " [ 30.          19.89        46.3        ...  11.          11.\n",
      "   17.        ]\n",
      " ...\n",
      " [ 10.          25.5         46.59666667 ... 148.          27.\n",
      "   17.        ]\n",
      " [ 10.          25.5         46.99       ... 148.          27.\n",
      "   17.        ]\n",
      " [ 10.          25.5         46.6        ... 148.          27.\n",
      "   18.        ]]\n"
     ]
    }
   ],
   "source": [
    "print(X)"
   ]
  },
  {
   "cell_type": "code",
   "execution_count": 14,
   "metadata": {},
   "outputs": [
    {
     "name": "stdout",
     "output_type": "stream",
     "text": [
      "[ 60  60  50 ... 270 420 430]\n"
     ]
    }
   ],
   "source": [
    "print(y)"
   ]
  },
  {
   "cell_type": "markdown",
   "metadata": {},
   "source": [
    "# Boruta selection"
   ]
  },
  {
   "cell_type": "code",
   "execution_count": 15,
   "metadata": {},
   "outputs": [],
   "source": [
    " # find all relevant features\n",
    "#feat_selector.fit(X, y)\n",
    " \n",
    "# check selected features\n",
    "#feat_selector.support_\n",
    " \n",
    "# check ranking of features\n",
    "#feat_selector.ranking_\n",
    " \n",
    "# call transform() on X to filter it down to selected features\n",
    "#X_filtered = feat_selector.transform(X)\n",
    "estimator = SVR(kernel=\"linear\")"
   ]
  },
  {
   "cell_type": "code",
   "execution_count": 66,
   "metadata": {},
   "outputs": [],
   "source": [
    "selector = RFE(estimator, 5, step=1)"
   ]
  },
  {
   "cell_type": "code",
   "execution_count": 67,
   "metadata": {},
   "outputs": [],
   "source": [
    "selector = selector.fit(X, y)"
   ]
  },
  {
   "cell_type": "code",
   "execution_count": 69,
   "metadata": {},
   "outputs": [
    {
     "data": {
      "text/plain": [
       "array([False, False,  True, False,  True,  True, False, False, False,\n",
       "       False, False, False, False, False, False,  True, False,  True,\n",
       "       False, False, False, False, False, False, False, False, False,\n",
       "       False, False, False, False])"
      ]
     },
     "execution_count": 69,
     "metadata": {},
     "output_type": "execute_result"
    }
   ],
   "source": [
    "selector.support_ "
   ]
  },
  {
   "cell_type": "code",
   "execution_count": 68,
   "metadata": {},
   "outputs": [
    {
     "data": {
      "text/plain": [
       "Index(['RH_1', 'RH_2', 'T3', 'T8', 'T9'], dtype='object')"
      ]
     },
     "execution_count": 68,
     "metadata": {},
     "output_type": "execute_result"
    }
   ],
   "source": [
    "#energydata.iloc[0].columns\n",
    "energydata.iloc[:, 1:32].columns[selector.support_]"
   ]
  },
  {
   "cell_type": "code",
   "execution_count": 53,
   "metadata": {},
   "outputs": [
    {
     "data": {
      "text/plain": [
       "<bound method NDFrame.head of 0         60\n",
       "1         60\n",
       "2         50\n",
       "3         50\n",
       "4         60\n",
       "5         50\n",
       "6         60\n",
       "7         60\n",
       "8         60\n",
       "9         70\n",
       "10       230\n",
       "11       580\n",
       "12       430\n",
       "13       250\n",
       "14       100\n",
       "15       100\n",
       "16        90\n",
       "17        70\n",
       "18        80\n",
       "19       140\n",
       "20       120\n",
       "21       190\n",
       "22       110\n",
       "23       110\n",
       "24       110\n",
       "25       110\n",
       "26       100\n",
       "27       100\n",
       "28       100\n",
       "29       100\n",
       "        ... \n",
       "19705    280\n",
       "19706    240\n",
       "19707    250\n",
       "19708    220\n",
       "19709    230\n",
       "19710    190\n",
       "19711    160\n",
       "19712     80\n",
       "19713     60\n",
       "19714     60\n",
       "19715     60\n",
       "19716     60\n",
       "19717     70\n",
       "19718     80\n",
       "19719     80\n",
       "19720     70\n",
       "19721    100\n",
       "19722    100\n",
       "19723     90\n",
       "19724    100\n",
       "19725    220\n",
       "19726    180\n",
       "19727    120\n",
       "19728    110\n",
       "19729     90\n",
       "19730    100\n",
       "19731     90\n",
       "19732    270\n",
       "19733    420\n",
       "19734    430\n",
       "Name: Appliances, Length: 19735, dtype: int64>"
      ]
     },
     "execution_count": 53,
     "metadata": {},
     "output_type": "execute_result"
    }
   ],
   "source": [
    "energydata.iloc[:, 0].head"
   ]
  },
  {
   "cell_type": "code",
   "execution_count": 56,
   "metadata": {},
   "outputs": [
    {
     "data": {
      "text/plain": [
       "Index(['lights', 'T1', 'RH_1', 'T2', 'RH_2', 'T3', 'RH_3', 'T4', 'RH_4', 'T5',\n",
       "       'RH_5', 'T6', 'RH_6', 'T7', 'RH_7', 'T8', 'RH_8', 'T9', 'RH_9', 'T_out',\n",
       "       'Press_mm_hg', 'RH_out', 'Windspeed', 'Visibility', 'Tdewpoint', 'rv1',\n",
       "       'rv2', 'month'],\n",
       "      dtype='object')"
      ]
     },
     "execution_count": 56,
     "metadata": {},
     "output_type": "execute_result"
    }
   ],
   "source": [
    "energydata.iloc[:, 1:29].columns"
   ]
  },
  {
   "cell_type": "code",
   "execution_count": 57,
   "metadata": {},
   "outputs": [
    {
     "data": {
      "text/plain": [
       "array([11,  3,  1,  2,  1,  1, 19, 10, 13,  9, 16,  8, 20,  4, 18,  1,  5,\n",
       "        1,  7, 17, 21, 15, 12, 23, 14, 24, 22,  6])"
      ]
     },
     "execution_count": 57,
     "metadata": {},
     "output_type": "execute_result"
    }
   ],
   "source": [
    "selector.ranking_"
   ]
  },
  {
   "cell_type": "code",
   "execution_count": 16,
   "metadata": {},
   "outputs": [],
   "source": [
    "estimator = SVR(kernel=\"linear\")\n",
    "selector = RFE(estimator, 10, step=1)"
   ]
  },
  {
   "cell_type": "code",
   "execution_count": 17,
   "metadata": {},
   "outputs": [],
   "source": [
    "selector = selector.fit(X, y)"
   ]
  },
  {
   "cell_type": "code",
   "execution_count": 18,
   "metadata": {},
   "outputs": [
    {
     "data": {
      "text/plain": [
       "Index(['T1', 'RH_1', 'T2', 'RH_2', 'T3', 'T7', 'T8', 'RH_8', 'T9', 'month'], dtype='object')"
      ]
     },
     "execution_count": 18,
     "metadata": {},
     "output_type": "execute_result"
    }
   ],
   "source": [
    "energydata.iloc[:, 1:32].columns[selector.support_]"
   ]
  },
  {
   "cell_type": "code",
   "execution_count": 21,
   "metadata": {},
   "outputs": [],
   "source": [
    "# call transform() on X to filter it down to selected features\n",
    "X_filtered = selector.transform(X)"
   ]
  },
  {
   "cell_type": "code",
   "execution_count": 25,
   "metadata": {},
   "outputs": [
    {
     "data": {
      "text/plain": [
       "array([ 5,  1,  1,  1,  1,  1, 18,  4, 11, 17, 15,  3, 16,  1, 14,  1,  1,\n",
       "        1,  2,  6, 19, 13,  7, 22, 12, 20, 21,  1,  9, 10,  8])"
      ]
     },
     "execution_count": 25,
     "metadata": {},
     "output_type": "execute_result"
    }
   ],
   "source": [
    "selector.ranking_"
   ]
  },
  {
   "cell_type": "code",
   "execution_count": 29,
   "metadata": {},
   "outputs": [],
   "source": [
    "X = energydata.loc[1:32, ['T1', 'RH_1', 'T2', 'RH_2', 'T3', 'T7', 'T8', 'RH_8', 'T9', 'month']]\n",
    "y = energydata.iloc[:, 0].values"
   ]
  },
  {
   "cell_type": "code",
   "execution_count": 32,
   "metadata": {},
   "outputs": [
    {
     "name": "stdout",
     "output_type": "stream",
     "text": [
      "<class 'pandas.core.frame.DataFrame'>\n",
      "RangeIndex: 32 entries, 1 to 32\n",
      "Data columns (total 10 columns):\n",
      "T1       32 non-null float64\n",
      "RH_1     32 non-null float64\n",
      "T2       32 non-null float64\n",
      "RH_2     32 non-null float64\n",
      "T3       32 non-null float64\n",
      "T7       32 non-null float64\n",
      "T8       32 non-null float64\n",
      "RH_8     32 non-null float64\n",
      "T9       32 non-null float64\n",
      "month    32 non-null int64\n",
      "dtypes: float64(9), int64(1)\n",
      "memory usage: 2.6 KB\n"
     ]
    }
   ],
   "source": [
    "X.info()"
   ]
  },
  {
   "cell_type": "code",
   "execution_count": 28,
   "metadata": {},
   "outputs": [],
   "source": [
    "energydata.drop(columns=['lights', 'RH_3', 'T4', 'RH_4', 'T5', 'RH_5', 'T6', 'RH_6', 'RH_7','RH_9', 'T_out', 'Press_mm_hg', 'RH_out', 'Windspeed', 'Visibility', 'Tdewpoint', 'rv1', 'rv2', 'day-of-year', 'day', 'hour'], axis=1,inplace=True)"
   ]
  },
  {
   "cell_type": "code",
   "execution_count": 34,
   "metadata": {},
   "outputs": [
    {
     "name": "stdout",
     "output_type": "stream",
     "text": [
      "<class 'pandas.core.frame.DataFrame'>\n",
      "RangeIndex: 19735 entries, 0 to 19734\n",
      "Data columns (total 11 columns):\n",
      "Appliances    19735 non-null int64\n",
      "T1            19735 non-null float64\n",
      "RH_1          19735 non-null float64\n",
      "T2            19735 non-null float64\n",
      "RH_2          19735 non-null float64\n",
      "T3            19735 non-null float64\n",
      "T7            19735 non-null float64\n",
      "T8            19735 non-null float64\n",
      "RH_8          19735 non-null float64\n",
      "T9            19735 non-null float64\n",
      "month         19735 non-null int64\n",
      "dtypes: float64(9), int64(2)\n",
      "memory usage: 1.7 MB\n"
     ]
    }
   ],
   "source": [
    "energydata.info()"
   ]
  }
 ],
 "metadata": {
  "kernelspec": {
   "display_name": "Python 3",
   "language": "python",
   "name": "python3"
  },
  "language_info": {
   "codemirror_mode": {
    "name": "ipython",
    "version": 3
   },
   "file_extension": ".py",
   "mimetype": "text/x-python",
   "name": "python",
   "nbconvert_exporter": "python",
   "pygments_lexer": "ipython3",
   "version": "3.6.7"
  }
 },
 "nbformat": 4,
 "nbformat_minor": 2
}
